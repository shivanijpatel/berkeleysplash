{
 "cells": [
  {
   "cell_type": "markdown",
   "metadata": {},
   "source": [
    "# Berkeley Splash: Learning about Python, the Computing Language not the Snake\n",
    "## 11/02/2019\n",
    "### Table of Contents:\n",
    "1. [Basic Python Syntax](#section1)  \n",
    "    1.1 [Jupyter Notebooks](#section1.1)  \n",
    "    1.2 [Text](#section1.2)  \n",
    "    1.3 [Code](#section1.3)  \n",
    "    1.4 [Writing in Jupyter Notebooks](#section1.4)  \n",
    "    1.5 [Errors](#section1.5)  \n",
    "2. [Numbers](#section2)  \n",
    "    2.1 [Basic Arithmetic Operations](#section2.1)  \n",
    "3. [Variables and Functions](#section3)  \n",
    "    3.1 [Commenting](#section3.1)  \n",
    "    3.2 [Assignment Statments](#section3.2)  \n",
    "    3.3 [Functions](#section3.3)  \n",
    "    3.4 [Data Types](#section3.4)  \n",
    "    3.5 [Importing Code](#section3.5)  \n",
    "4. [Lists](#section4)  \n",
    "    4.1 [List](#section4.1)     \n",
    "    4.2 [Single elements of lists](#section4.2)\n",
    "5. [Datascience Library](#section5)   \n",
    "    5.1 [Making Arrays](#section5.1)   \n",
    "    5.2 [Indexing](#section5.2)     \n",
    "    5.3 [Application](#section5.3)   \n",
    "6. [Challenge Questions](#section6)  \n",
    "    5.1 [Arithmetic](#section6.1)   \n",
    "    5.2 [Printing and Strings](#section6.2)    \n",
    "7. [Looping](#section7)    \n",
    "    6.1 [Conditionals](#section7.1)    \n",
    "    6.2 [If/Else Statements](#section7.2)   \n",
    "    6.3 [While Loops](#section7.3)    \n",
    "    6.4 [For Loops](#section7.4)    \n",
    "8. [Functions](#section8)    \n",
    "    7.1 [Define Statements](#section8.1)    \n",
    "    7.2 [Putting it All Together](#section8.2)    \n",
    "9. [Make your own Functions](#section9)       \n",
    "    \n",
    "\n",
    "\n",
    "## Contacts:\n",
    "**Co-Teachers:**\n",
    "[Shivani Patel](mailto:shivanijpatel@berkeley.edu) & [Sindhu Goli](mailto:sindhugoli@berkeley.edu)\n",
    "\n",
    "    "
   ]
  },
  {
   "cell_type": "code",
   "execution_count": null,
   "metadata": {},
   "outputs": [],
   "source": [
    "#Please run this cell\n",
    "\n",
    "!pip install --upgrade numpy -q\n",
    "!pip install datascience\n",
    "\n",
    "from datascience import *\n",
    "import numpy as np\n",
    "import math"
   ]
  },
  {
   "cell_type": "markdown",
   "metadata": {},
   "source": [
    "<a id='section1'></a>\n",
    "# Part 1: Basic Python Syntax"
   ]
  },
  {
   "cell_type": "markdown",
   "metadata": {},
   "source": [
    "This course will teach you to:\n",
    "1. navigate Jupyter Notebooks (like this one)\n",
    "2. write and evaluate some basic *expressions* in Python\n",
    "3. call *functions* to use prewritten code other people have written;\n",
    "4. break down Python code into smaller parts to understand it."
   ]
  },
  {
   "cell_type": "markdown",
   "metadata": {},
   "source": [
    "<a id='section1.1'></a>\n",
    "### 1.1 Jupyter Notebooks"
   ]
  },
  {
   "cell_type": "markdown",
   "metadata": {},
   "source": [
    " - Some shortcuts:\n",
    "     - `Esc` - `a`: creates a cell above current cell\n",
    "     - `Esc` - `b`: creates a cell below current cell\n",
    "     - Alternatives to `shift` - `enter`:\n",
    "         - `ctrl` - `enter`: run cell, keeps cursor in cell\n",
    "         - `opt` - `enter`: run cell, create new cell below"
   ]
  },
  {
   "cell_type": "markdown",
   "metadata": {},
   "source": [
    "Each rectangle containing text is a *cell*.\n",
    "\n",
    "There are two types of cells: Text and Code"
   ]
  },
  {
   "cell_type": "markdown",
   "metadata": {},
   "source": [
    "<a id='section1.2'></a>\n",
    "### 1.2 Text\n",
    "    - simple cells with text (like this one)\n",
    "    - can be edited by double-clicking on the cell."
   ]
  },
  {
   "cell_type": "markdown",
   "metadata": {},
   "source": [
    "**Practice:**\n",
    "\n",
    "    Complete the following sentence structure:"
   ]
  },
  {
   "cell_type": "markdown",
   "metadata": {},
   "source": [
    "Hi, my name is"
   ]
  },
  {
   "cell_type": "markdown",
   "metadata": {},
   "source": [
    "<a id='section1.3'></a>\n",
    "### 1.3 Code\n",
    "   - The language that we are using in this notebook is Python 3\n",
    "   - \"running a cell\" will execute all of the code the cell contains\n",
    "   - cells can be edited by double-clicking the cell, it'll be highlighted with a little green or blue rectangle\n",
    "   - to run the code in a cell press the ▶| button or press `shift` + `enter`\n",
    "\n",
    "Try running this cell:"
   ]
  },
  {
   "cell_type": "code",
   "execution_count": null,
   "metadata": {},
   "outputs": [],
   "source": [
    "print(\"Berkeley Splash is the best!!!\")"
   ]
  },
  {
   "cell_type": "markdown",
   "metadata": {},
   "source": [
    "And this one:"
   ]
  },
  {
   "cell_type": "code",
   "execution_count": null,
   "metadata": {},
   "outputs": [],
   "source": [
    "print(\"\\N{WAVING HAND SIGN}, \\N{EARTH GLOBE ASIA-AUSTRALIA}!\")"
   ]
  },
  {
   "cell_type": "markdown",
   "metadata": {},
   "source": [
    "Code is broken down into different lines called expressions. Cells can contain multiple lines with multiple expressions. When you run a cell, the lines of code are executed in the order in which they appear. \n",
    "\n",
    "Every `print` expression prints a line. Run the next line and notice the order of the output"
   ]
  },
  {
   "cell_type": "code",
   "execution_count": null,
   "metadata": {},
   "outputs": [],
   "source": [
    "print('This line is first,')\n",
    "print('and this one is last.')"
   ]
  },
  {
   "cell_type": "markdown",
   "metadata": {},
   "source": [
    "**Question 1.3.1.** Change the cell above so that it prints out:\n",
    "    \n",
    "    This line is first,\n",
    "    then the whole 🌏,\n",
    "    and this one is last.\n",
    "\n",
    "Hint: if you are stuck on the Earth symbol, try asking your neighbor :)"
   ]
  },
  {
   "cell_type": "markdown",
   "metadata": {},
   "source": [
    "<a id='section1.4'></a>\n",
    "### 1.4. Writing in Jupyter Notebooks\n",
    "Although we have created this notebook for you to learn, you will need to create cells in the future. Let's start with adding new cells for text and code.\n",
    "\n",
    "To add a cell, click the + button in the menu bar. If the left sidebar has `In [ ]` then it is a code cell, if it is blank it is a text cell. To change the type of cell you can do either of these options:\n",
    "1. select the cell then click cell from the toolbar and choose Cell Type. (Don't worry about \"Raw NBConvert\").\n",
    "2. click the left side of the cell and press `m` for markdown cell or `y` for a code cell.\n",
    "\n",
    "**Tip:** If your cell is green, it means you are editing it directly, if it is blue it means you have selected it but not yet gone into it. Changing the type of cell will only work if it is blue.\n",
    "\n",
    "**Question 1.4.1*** Add a code cell below this one.  Write code in it that prints out:\n",
    "   \n",
    "    Music makes the world round! ♪🌏♪\n",
    "\n",
    "Hint: That musical note symbol is like the Earth symbol.  Its long-form name (code) is `\\N{EIGHTH NOTE}`.\n",
    "\n",
    "Run your cell to verify that it works."
   ]
  },
  {
   "cell_type": "markdown",
   "metadata": {},
   "source": [
    "### 1.5. Errors\n",
    "Python is just like any other language you learn, there are grammer rules and these are really important. The computer is designed to excute code based on what it was programmed to understand.\n",
    "1. The rules are *simple*\n",
    "2. The most common error is a Syntax Error\n",
    "\n",
    "Today we are going to teach you a simple error to fix: `SyntaxError`. It tells you that you have created an illegal structure, or in other words, you broke the \"grammar rules\"\n",
    "\n",
    "We have made an error in the next cell. Run it and see what happens."
   ]
  },
  {
   "cell_type": "code",
   "execution_count": null,
   "metadata": {},
   "outputs": [],
   "source": [
    "print(\"This line is missing something.\""
   ]
  },
  {
   "cell_type": "markdown",
   "metadata": {},
   "source": [
    "Lets break this down, the last line of the error output attempts to tell you in english what went wrong. \"`EOF`\" means \"end of file\". Also notice how there is a small carrot that points to a part of the ran cell. This attempts to tell you \"where\" you made the error.\n",
    "\n",
    "There is a lot of unnessary cryptic terminology in programming languages but you don't need to understand it all, try to just look at the last line of the error, that is the most simple version of the problem.\n",
    "\n",
    "**Question 1.5.1.** Try to fix the code above so that you can run the cell and see the intended message instead of an error"
   ]
  },
  {
   "cell_type": "markdown",
   "metadata": {},
   "source": [
    "<a id='section2'></a>\n",
    "# Part 2: Numbers\n",
    "In addition to representing commands to print out lines of code, or *expressions* Python also knows how to intrepret and evaluate numbers. The expression `15.0210000` evaluates to the number 15.021. Run the cell below and see:"
   ]
  },
  {
   "cell_type": "code",
   "execution_count": null,
   "metadata": {},
   "outputs": [],
   "source": [
    "15.0210000"
   ]
  },
  {
   "cell_type": "markdown",
   "metadata": {},
   "source": [
    "Notice how we didn't use the function `print`. This is because the last line has a value it will print that value for you. BUT, it will disregard any prior lines."
   ]
  },
  {
   "cell_type": "code",
   "execution_count": null,
   "metadata": {},
   "outputs": [],
   "source": [
    "1\n",
    "2\n",
    "3"
   ]
  },
  {
   "cell_type": "markdown",
   "metadata": {},
   "source": [
    "**Question 2.0.1.** If you want the output to include 1, use the function `print`. Change the cell below to produce an output with 1 and 3"
   ]
  },
  {
   "cell_type": "code",
   "execution_count": null,
   "metadata": {},
   "outputs": [],
   "source": [
    "1\n",
    "2\n",
    "3"
   ]
  },
  {
   "cell_type": "markdown",
   "metadata": {},
   "source": [
    "<a id='section2.1'></a>\n",
    "### 2.1 Basic Arithmetic Operations\n",
    "Lets learn a few basic (and extremely useful) operations "
   ]
  },
  {
   "cell_type": "markdown",
   "metadata": {},
   "source": [
    "Addition: `+`"
   ]
  },
  {
   "cell_type": "code",
   "execution_count": null,
   "metadata": {},
   "outputs": [],
   "source": []
  },
  {
   "cell_type": "markdown",
   "metadata": {},
   "source": [
    "Subtraction: `-`"
   ]
  },
  {
   "cell_type": "code",
   "execution_count": null,
   "metadata": {},
   "outputs": [],
   "source": []
  },
  {
   "cell_type": "markdown",
   "metadata": {},
   "source": [
    "Multiplication: `*`"
   ]
  },
  {
   "cell_type": "code",
   "execution_count": null,
   "metadata": {},
   "outputs": [],
   "source": []
  },
  {
   "cell_type": "markdown",
   "metadata": {},
   "source": [
    "Division: `/`"
   ]
  },
  {
   "cell_type": "code",
   "execution_count": null,
   "metadata": {},
   "outputs": [],
   "source": []
  },
  {
   "cell_type": "markdown",
   "metadata": {},
   "source": [
    "Floor Division: `//`\n",
    "This divides the number and rounds down"
   ]
  },
  {
   "cell_type": "code",
   "execution_count": null,
   "metadata": {},
   "outputs": [],
   "source": []
  },
  {
   "cell_type": "markdown",
   "metadata": {},
   "source": [
    "Remainder: `%`"
   ]
  },
  {
   "cell_type": "code",
   "execution_count": null,
   "metadata": {},
   "outputs": [],
   "source": []
  },
  {
   "cell_type": "markdown",
   "metadata": {},
   "source": [
    "Exponetiation: `**`"
   ]
  },
  {
   "cell_type": "code",
   "execution_count": null,
   "metadata": {},
   "outputs": [],
   "source": []
  },
  {
   "cell_type": "markdown",
   "metadata": {},
   "source": [
    "Note: `2 * * 5` will return an error. See below:"
   ]
  },
  {
   "cell_type": "code",
   "execution_count": null,
   "metadata": {},
   "outputs": [],
   "source": [
    "2 * * 5"
   ]
  },
  {
   "cell_type": "markdown",
   "metadata": {},
   "source": [
    "Python has rules like order of operations (PEMDAS), run the following cell:"
   ]
  },
  {
   "cell_type": "code",
   "execution_count": null,
   "metadata": {},
   "outputs": [],
   "source": [
    "3+6*5-6*3**2*2**3/4*7"
   ]
  },
  {
   "cell_type": "markdown",
   "metadata": {},
   "source": [
    "Now run this cell, notice the use of parenthesis. Happy New Year!!"
   ]
  },
  {
   "cell_type": "code",
   "execution_count": null,
   "metadata": {},
   "outputs": [],
   "source": [
    "3+(6*5-(6*3))**2*((2**3)/4*7)"
   ]
  },
  {
   "cell_type": "markdown",
   "metadata": {},
   "source": [
    "This is what Python reads for the first expression:\n",
    "\n",
    "$$3+6 \\times 5-6 \\times 3^2 \\times \\frac{2^3} {4} \\times 7$$\n",
    "\n",
    "The second expression is evaluated as:\n",
    "\n",
    "$$3 + (6 \\times 5 - (6 \\times3))^2 \\times (\\frac{(2^3)}{4} \\times 7)$$"
   ]
  },
  {
   "cell_type": "markdown",
   "metadata": {},
   "source": [
    "**Question 2.1.1** Write a python expression below that is equal to:\n",
    "\n",
    "$$1 + (5 \\times 8 - (44 \\times2))^1 \\times (\\frac{(4^3)}{4})$$"
   ]
  },
  {
   "cell_type": "code",
   "execution_count": null,
   "metadata": {},
   "outputs": [],
   "source": []
  },
  {
   "cell_type": "markdown",
   "metadata": {},
   "source": [
    "<a id='section3'></a>\n",
    "# Part 3: Variables and Fuctions"
   ]
  },
  {
   "cell_type": "markdown",
   "metadata": {},
   "source": [
    "<a id='section3.1'></a>\n",
    "### 3.1 Commenting\n",
    "A *comment* is a line of code that the computer does not run. Why do we need this? When code has hundreds or even thousands of lines, it is sometimes hard to know what exactly the computer is computing in certain places. Adding comments allow the coder (you) to write in english what the line means/evaluates to.\n",
    "\n",
    "To add a comment, we use a `#` symbol, everything to the right of the # is apart of the comment."
   ]
  },
  {
   "cell_type": "code",
   "execution_count": null,
   "metadata": {},
   "outputs": [],
   "source": [
    "#Calculating an approximation for pi\n",
    "about_pi = 22/7\n",
    "about_pi"
   ]
  },
  {
   "cell_type": "markdown",
   "metadata": {},
   "source": [
    "<img src=\"http://imgs.xkcd.com/comics/future_self.png\">\n",
    "Source: http://imgs.xkcd.com/comics/future_self.png"
   ]
  },
  {
   "cell_type": "markdown",
   "metadata": {},
   "source": [
    "<a id='section3.2'></a>\n",
    "### 3.2 Assignment Statements\n",
    "When we speak we don't say, \"WOW look at that mammal with black and white stripes!\" Instead, we say, \"Zebra!\"\n",
    "\n",
    "Python can also do the same sort of classfication. We can assign a variable to an expression. This helps when we have really complicated code. We call this an *assignment statement* Python will evaluate the expression on the right side of the `=` and will store it to the variable on the left of the `=`. Once you run the line of code, everytime you call that varible later on, Python will insert the evaluated expression.\n",
    "\n",
    "As we have seen, programing does not only include just numbers. Text is one of the most common types of values used in programs.\n",
    "\n",
    "`string` is a programming term for a sequence of characters. This can include a single character, a word, a sentence, or a whole book. The contents can be anything; words, numbers, symbols.\n",
    "\n",
    "In order to create a string of characters, we put double quotes`(\")` or single quotes`(')` (both produce the same function) but, the opening and ending quotes must match.\n",
    "\n",
    "We have seen strings before in `print` statements\n",
    "\n",
    "Note: \n",
    "1. Variables are case senstive\n",
    "2. They cannot start with a number like `6` but, `six` will work.\n",
    "3. There cannot be any spaces, instead we use `_` (underscore) to seperate words."
   ]
  },
  {
   "cell_type": "code",
   "execution_count": null,
   "metadata": {},
   "outputs": [],
   "source": [
    "thesis = "
   ]
  },
  {
   "cell_type": "markdown",
   "metadata": {},
   "source": [
    "Notice how no output was produced? This is because Python stored the expression in the variable `thesis`. Run the following cell:"
   ]
  },
  {
   "cell_type": "code",
   "execution_count": null,
   "metadata": {},
   "outputs": [],
   "source": [
    "thesis"
   ]
  },
  {
   "cell_type": "markdown",
   "metadata": {},
   "source": [
    "If no value has been assigned to a name, Python will return a NameError:"
   ]
  },
  {
   "cell_type": "code",
   "execution_count": null,
   "metadata": {},
   "outputs": [],
   "source": [
    "topic_sentence"
   ]
  },
  {
   "cell_type": "markdown",
   "metadata": {},
   "source": [
    "**Question 3.2.1** Assign a value to the `topic_sentence` below:"
   ]
  },
  {
   "cell_type": "code",
   "execution_count": null,
   "metadata": {},
   "outputs": [],
   "source": []
  },
  {
   "cell_type": "code",
   "execution_count": null,
   "metadata": {},
   "outputs": [],
   "source": [
    "topic_sentence"
   ]
  },
  {
   "cell_type": "markdown",
   "metadata": {},
   "source": [
    "A common pattern that in JN is to use assignment statements and then immediately evaluate the name in the last line of the cell."
   ]
  },
  {
   "cell_type": "code",
   "execution_count": null,
   "metadata": {},
   "outputs": [],
   "source": [
    "close_to_pi = 355/113\n",
    "close_to_pi"
   ]
  },
  {
   "cell_type": "markdown",
   "metadata": {},
   "source": [
    "Another common use of variables in JN is a series of lines in a single cell. This is a more complex computation in stages naming the end result rather than individual values"
   ]
  },
  {
   "cell_type": "code",
   "execution_count": null,
   "metadata": {},
   "outputs": [],
   "source": [
    "rent = \n",
    "months = \n",
    "total_rent_paid = rent* months\n",
    "total_rent_paid"
   ]
  },
  {
   "cell_type": "markdown",
   "metadata": {},
   "source": [
    "**Question 3.2.2** Assign the name `seconds_in_a_year` to the number of seconds in a year. Compute 365 days for the year.\n",
    "\n",
    "If you're stuck read the comments for hints :)"
   ]
  },
  {
   "cell_type": "code",
   "execution_count": null,
   "metadata": {},
   "outputs": [],
   "source": [
    "# Change the next line so it computes the number of seconds in a year\n",
    "# Try not to use a computer and instead use the Arithmetic functions to solve this\n",
    "\n",
    "seconds_in_a_year = \n",
    "\n",
    "#We've put this line in the cell so that it will print your corresponding value\n",
    "#Do not change this part!\n",
    "#Hint: your output should start with 3 and end with three 0's\n",
    "seconds_in_a_year"
   ]
  },
  {
   "cell_type": "markdown",
   "metadata": {},
   "source": [
    "<a id='section3.4'></a>\n",
    "### 3.4 Functions\n",
    "*Functions* are pieces of code written by others that you can freely use. A functions is called through its name and then its argument or arguments the syntax of a function looks like this:\n",
    "`function(argument)`. *Functions are case sensitive*. \n",
    "\n",
    "For example: `f(27)`\n",
    "\n",
    "This is called a *call expression* because `f` is the name of the function being called and `27` is the argument being passed in.\n",
    "\n",
    "Python has a set of built-in functions that are very simple to use. Lets look at a few!"
   ]
  },
  {
   "cell_type": "code",
   "execution_count": null,
   "metadata": {},
   "outputs": [],
   "source": [
    "abs()"
   ]
  },
  {
   "cell_type": "markdown",
   "metadata": {},
   "source": [
    "**Question 3.4.1.** Pick a random number and assign it to the value n. Then, execute the cell:"
   ]
  },
  {
   "cell_type": "code",
   "execution_count": null,
   "metadata": {},
   "outputs": [],
   "source": [
    "n = \n",
    "abs(n)"
   ]
  },
  {
   "cell_type": "markdown",
   "metadata": {},
   "source": [
    "Some functions take in multiple arguments, seperated by commas. Lets look at a few:"
   ]
  },
  {
   "cell_type": "code",
   "execution_count": null,
   "metadata": {},
   "outputs": [],
   "source": [
    "max()"
   ]
  },
  {
   "cell_type": "code",
   "execution_count": null,
   "metadata": {},
   "outputs": [],
   "source": [
    "min()"
   ]
  },
  {
   "cell_type": "markdown",
   "metadata": {},
   "source": [
    "You can also pass in expressions into the functions. Below is an example of the function `round()`."
   ]
  },
  {
   "cell_type": "code",
   "execution_count": null,
   "metadata": {},
   "outputs": [],
   "source": [
    "# Run this cell and see the result\n",
    "num_rotations = 4\n",
    "radians_turned = 2 * about_pi * num_rotations\n",
    "radians_turned"
   ]
  },
  {
   "cell_type": "code",
   "execution_count": null,
   "metadata": {},
   "outputs": [],
   "source": [
    "#Run this cell and see the evidence of rounding\n",
    "# round() rounds the output to the nearest integer\n",
    "approx_radians_turned = round(2 * about_pi * num_rotations)\n",
    "approx_radians_turned"
   ]
  },
  {
   "cell_type": "markdown",
   "metadata": {},
   "source": [
    "*Nesting* is the term for what was displayed above. Here is a more simple example:"
   ]
  },
  {
   "cell_type": "code",
   "execution_count": null,
   "metadata": {},
   "outputs": [],
   "source": [
    "abs(4 - max(2,3,4,5,6,9))"
   ]
  },
  {
   "cell_type": "markdown",
   "metadata": {},
   "source": [
    "<a id='section3.5'></a>\n",
    "### 3.5 Data Types\n",
    "Python has several types of data.\n",
    "1. Numbers look like this `[1.22, 4, 0.45, 2.0]`\n",
    "2. `string` are a \"string\" of characters refer to the string section for more details\n",
    "3. `bool` this is a fancy way of saying `True/False` or `1/0`\n",
    "\n",
    "You can also convert different data types.\n",
    "1. `int` is a solid number such as, 6, 2, 5500 etc.\n",
    "2. `float` is a number with decimal places such as, 1.34, 88.3, 3.0\n",
    "\n",
    "Lets look at some examples:"
   ]
  },
  {
   "cell_type": "code",
   "execution_count": null,
   "metadata": {},
   "outputs": [],
   "source": []
  },
  {
   "cell_type": "code",
   "execution_count": null,
   "metadata": {},
   "outputs": [],
   "source": []
  },
  {
   "cell_type": "code",
   "execution_count": null,
   "metadata": {},
   "outputs": [],
   "source": []
  },
  {
   "cell_type": "code",
   "execution_count": null,
   "metadata": {},
   "outputs": [],
   "source": []
  },
  {
   "cell_type": "code",
   "execution_count": null,
   "metadata": {},
   "outputs": [],
   "source": []
  },
  {
   "cell_type": "code",
   "execution_count": null,
   "metadata": {},
   "outputs": [],
   "source": []
  },
  {
   "cell_type": "code",
   "execution_count": null,
   "metadata": {},
   "outputs": [],
   "source": []
  },
  {
   "cell_type": "code",
   "execution_count": null,
   "metadata": {},
   "outputs": [],
   "source": []
  },
  {
   "cell_type": "markdown",
   "metadata": {},
   "source": [
    "<a id='section3.6'></a>\n",
    "### 3.6 Importing Code\n",
    "\n",
    "A really nice feature that Python has is built-in functions. These are functions that were already defined by other people can be imported and used without having to define functions.\n",
    "\n",
    "Let's look at the `import math` function:"
   ]
  },
  {
   "cell_type": "code",
   "execution_count": null,
   "metadata": {},
   "outputs": [],
   "source": [
    "import math\n",
    "\n",
    "#math is super useful when trying to use functions like pi or square root\n",
    "print(math.pi)\n",
    "print(math.sqrt(16))"
   ]
  },
  {
   "cell_type": "markdown",
   "metadata": {},
   "source": [
    "Once you import the code once in the notebook, python does not need a reminder everytime you use the function\n",
    "Here are some functions you can use in the `math` notebook:\n",
    "\n",
    "|Method Name|Value|\n",
    "|-|-|\n",
    "|`cos(x)`|returns the cosine of x radians|\n",
    "|`sin(x)`|returns the sine of x radians|\n",
    "|`tan(x)`|returns the tangent of x radians|\n",
    "|`e`|returns the value of *e*|\n",
    "|`pi`|returns the value of pi (3.14)|\n",
    "|`factorial`| calculates factorials|\n",
    "|`log(logarithm, base)`|calculates logarithms. The first number is the logarithm and the second number is the base.|\n",
    "|`sqrt`| calculates square roots|"
   ]
  },
  {
   "cell_type": "markdown",
   "metadata": {},
   "source": [
    "**Question 3.6.1** \n",
    "\n",
    "Write this code in the next line! \n",
    "\n",
    "**Hint**: just simply stating the function does not tell python where to get it from. Remember to write `math.` before each function\n",
    "$$cos(\\pi)$$"
   ]
  },
  {
   "cell_type": "code",
   "execution_count": null,
   "metadata": {},
   "outputs": [],
   "source": []
  },
  {
   "cell_type": "markdown",
   "metadata": {},
   "source": [
    "Try this one:\n",
    "$$\\sqrt(16)$$"
   ]
  },
  {
   "cell_type": "code",
   "execution_count": null,
   "metadata": {},
   "outputs": [],
   "source": []
  },
  {
   "cell_type": "markdown",
   "metadata": {},
   "source": [
    "$$\\log(8,2)$$"
   ]
  },
  {
   "cell_type": "code",
   "execution_count": null,
   "metadata": {},
   "outputs": [],
   "source": []
  },
  {
   "cell_type": "markdown",
   "metadata": {},
   "source": [
    "find the factorial of 5"
   ]
  },
  {
   "cell_type": "code",
   "execution_count": null,
   "metadata": {},
   "outputs": [],
   "source": []
  },
  {
   "cell_type": "markdown",
   "metadata": {},
   "source": [
    "<a id='section4'></a>\n",
    "# Part 4: Lists\n",
    "Although we could code every little detail in our computer, we can also tell Python to do some work for us. An list puts many values into one place so we can tell functions to operate them as a group. Lets take a look at a couple ways we can do this!"
   ]
  },
  {
   "cell_type": "markdown",
   "metadata": {},
   "source": [
    "<a id='section4.1'></a>\n",
    "### 4.1 List\n",
    "They contain values that we input in a list form\n",
    "\n",
    "We can make an list of 'string' values:"
   ]
  },
  {
   "cell_type": "code",
   "execution_count": null,
   "metadata": {},
   "outputs": [],
   "source": [
    "#Run this cell\n",
    "rainbow_colors= ['red', 'orange', 'yellow', 'green', 'blue', 'indigo', 'purple']\n",
    "rainbow_colors"
   ]
  },
  {
   "cell_type": "markdown",
   "metadata": {},
   "source": [
    "We can also make an list of numbers:"
   ]
  },
  {
   "cell_type": "code",
   "execution_count": null,
   "metadata": {},
   "outputs": [],
   "source": [
    "small_numbers = \n",
    "small_numbers"
   ]
  },
  {
   "cell_type": "markdown",
   "metadata": {},
   "source": [
    "**Question 4.1.1.** Make a list containing the numbers 6,7,8,9,10, in that order. Name it `large_numbers`:"
   ]
  },
  {
   "cell_type": "code",
   "execution_count": null,
   "metadata": {},
   "outputs": [],
   "source": []
  },
  {
   "cell_type": "markdown",
   "metadata": {},
   "source": [
    "**Question 4.1.2.** Combine both `small_numbers` and `large_numbers` together.\n",
    "\n",
    "Hint: You should be using the names above and an arithmetic operation to complete this question. Do not manually compute this, let the computer do the hard work."
   ]
  },
  {
   "cell_type": "code",
   "execution_count": null,
   "metadata": {},
   "outputs": [],
   "source": []
  },
  {
   "cell_type": "markdown",
   "metadata": {},
   "source": [
    "Don't run the cell below! What do you think the output will be?"
   ]
  },
  {
   "cell_type": "code",
   "execution_count": null,
   "metadata": {},
   "outputs": [],
   "source": [
    "small_numbers + [\"hi\", \"hello\", \"bye\"]"
   ]
  },
  {
   "cell_type": "markdown",
   "metadata": {},
   "source": [
    "Write your notes here:\n",
    "\n",
    "\n"
   ]
  },
  {
   "cell_type": "markdown",
   "metadata": {},
   "source": [
    "<a id='section4.2'></a>\n",
    "### 4.2 Single Elements of Lists ('indexing')\n",
    "A lot of times in Python we import tables that have hundreds of values. Lets look at an example below:"
   ]
  },
  {
   "cell_type": "code",
   "execution_count": null,
   "metadata": {},
   "outputs": [],
   "source": [
    "#run this cell to load the data\n",
    "random_list = []\n",
    "for i in range(0, 100):\n",
    "    random_list += [i]"
   ]
  },
  {
   "cell_type": "markdown",
   "metadata": {},
   "source": [
    "This creates a list of 100 values. Lets assume we want to find the 100th value. To do this, we use a term called indexing. There is a key feature you should know first:\n",
    "\n",
    "1. indexing also starts with `0` not `1`. This means that if we do `random_list [1]` it will give us the second element of the list, `random_list [0]` will give the first element of the list."
   ]
  },
  {
   "cell_type": "markdown",
   "metadata": {},
   "source": [
    "**Question 4.2.1** Find the 10th element in `random_list`:"
   ]
  },
  {
   "cell_type": "code",
   "execution_count": null,
   "metadata": {},
   "outputs": [],
   "source": []
  },
  {
   "cell_type": "markdown",
   "metadata": {},
   "source": [
    "**Question 4.2.1** How about the 100th element?"
   ]
  },
  {
   "cell_type": "code",
   "execution_count": null,
   "metadata": {},
   "outputs": [],
   "source": []
  },
  {
   "cell_type": "markdown",
   "metadata": {},
   "source": [
    "<a id='section5'></a>\n",
    "# Part 5: Datascience Library\n",
    "\n",
    "The Datascience library was created by the great professors and founders of data science in the University of California system. They created the library in a way that was user-friendly and accessible to others. In this section we will be teaching you arrays from the datascience library. \n",
    "\n",
    "\n",
    "If you would like to learn more about datascience and its applications you can visit the library here: http://data8.org/datascience/\n"
   ]
  },
  {
   "cell_type": "markdown",
   "metadata": {},
   "source": [
    "<a id='section5.1'></a>\n",
    "### 5.1 Making Arrays"
   ]
  },
  {
   "cell_type": "markdown",
   "metadata": {},
   "source": [
    "This section is about using arrays which are collections of values of one type, like a column in an Excel spreadsheet. To make an array we call the function `make_array`. Each argument passed into `make_array` will be in the array."
   ]
  },
  {
   "cell_type": "code",
   "execution_count": null,
   "metadata": {},
   "outputs": [],
   "source": [
    "make_array(1, 2, 3)"
   ]
  },
  {
   "cell_type": "markdown",
   "metadata": {},
   "source": [
    "Each value in the array is called an **element** of the array. \n",
    "\n",
    "The entire array is evaluated as a value which means we can use an assignment statement and assign them to a variable."
   ]
  },
  {
   "cell_type": "code",
   "execution_count": null,
   "metadata": {},
   "outputs": [],
   "source": [
    "# run this cell\n",
    "x = make_array(1, 2, 3)\n",
    "x"
   ]
  },
  {
   "cell_type": "markdown",
   "metadata": {},
   "source": [
    "Make an array in the cell below consisting of 5 strings and call it halloween. "
   ]
  },
  {
   "cell_type": "code",
   "execution_count": null,
   "metadata": {},
   "outputs": [],
   "source": [
    "#type your code here"
   ]
  },
  {
   "cell_type": "markdown",
   "metadata": {},
   "source": [
    "## NumPy\n",
    "Numpy is another library like datascience. This has been around for a LONG time. They have many of the basic python functions and calls. One we will be looking at today is np.arange.\n",
    "\n",
    "If you are interested in more functionality check out the library here: https://numpy.org/"
   ]
  },
  {
   "cell_type": "markdown",
   "metadata": {},
   "source": [
    "There is another way to make arrays if you want a range of numbers in an array. For this we use the function `np.arange` which is provided by NumPy. Run the following cell to find out what happens."
   ]
  },
  {
   "cell_type": "code",
   "execution_count": null,
   "metadata": {},
   "outputs": [],
   "source": [
    "# run this cell\n",
    "np.arange(0, 10, 2)"
   ]
  },
  {
   "cell_type": "markdown",
   "metadata": {},
   "source": [
    "The **first** number represents the starting value in which we want to have our array begin at. \n",
    "\n",
    "The **second** number represents the ending value BUT not including that value. This is why 10 is never displayed. If we wanted 10 in the set we would need to make the ending be 11 to include 10 in the set.\n",
    "\n",
    "The **third** number represents the step. This is an *optional argument* which means if you do not put a 3rd input in, it will default the step count to be 1. Lets look at this with code:"
   ]
  },
  {
   "cell_type": "code",
   "execution_count": null,
   "metadata": {},
   "outputs": [],
   "source": [
    "np.arange(0, 10)"
   ]
  },
  {
   "cell_type": "markdown",
   "metadata": {},
   "source": [
    "<a id='section5.2'></a>\n",
    "### 5.2 Indexing "
   ]
  },
  {
   "cell_type": "markdown",
   "metadata": {},
   "source": [
    "Indexing is an important process in which we can tell the computer to give us the value at a single \"index\". A key thing to know is that indexes start with 0 not with 1. Let's take a look at what that means!"
   ]
  },
  {
   "cell_type": "code",
   "execution_count": null,
   "metadata": {},
   "outputs": [],
   "source": [
    "spooky = make_array('b','o','o','!')\n",
    "spooky"
   ]
  },
  {
   "cell_type": "code",
   "execution_count": null,
   "metadata": {},
   "outputs": [],
   "source": [
    "# Calling the 1st element (in other words the 0th index)\n",
    "spooky.item(0)"
   ]
  },
  {
   "cell_type": "code",
   "execution_count": null,
   "metadata": {},
   "outputs": [],
   "source": [
    "# Calling the 2st element (in other words the 1th index)\n",
    "spooky.item(1)"
   ]
  },
  {
   "cell_type": "code",
   "execution_count": null,
   "metadata": {},
   "outputs": [],
   "source": [
    "# Notice that if you run this cell it will give you an error\n",
    "# This is becuase the index is out of range\n",
    "spooky.item(4)"
   ]
  },
  {
   "cell_type": "markdown",
   "metadata": {},
   "source": [
    "**Question 5.2.1** Look through the array of halloween candy. Find your favorite one and then put the index number in the `...`"
   ]
  },
  {
   "cell_type": "code",
   "execution_count": null,
   "metadata": {},
   "outputs": [],
   "source": [
    "#replace the ...\n",
    "best_halloween_candy = make_array('KitKat', \"Reese's Peanut Butter Cups\", 'Laffy Taffy', 'Twizlers', \"M&M's\", 'Candy Corn', 'Skittles', 'Starburst', 'Tootsie Pops', 'Hershey bars')\n",
    "best_halloween_candy.item(...)"
   ]
  },
  {
   "cell_type": "markdown",
   "metadata": {},
   "source": [
    "<a id='section5.3'></a>\n",
    "### 5.3 Application"
   ]
  },
  {
   "cell_type": "markdown",
   "metadata": {},
   "source": [
    "Now that we saw what indexing does lets look at what the larger application of it is! One question we can ask of a population dataset is:\n",
    "\n",
    "*How big was the population in orders of magnitude in each year?*\n",
    "\n",
    "Orders of magnitude quantify how big a number is by representing it as the power of another number (for example, representing 104 as $10^{2.017033}$). One way to do this is by using the logarithm function. The logarithm (base 10) of a number increases by 1 every time we multiply the number by 10. It's like a measure of how many decimal digits the number has, or how big it is in orders of magnitude.\n",
    "\n",
    "We could try to answer our question like this, using the `log10` function from the `math` module and the `item` method you just saw:"
   ]
  },
  {
   "cell_type": "code",
   "execution_count": null,
   "metadata": {},
   "outputs": [],
   "source": [
    "# run this cell\n",
    "population_amounts = Table.read_table('fall_2019/world_population.csv').column('Population')\n",
    "population_amounts"
   ]
  },
  {
   "cell_type": "code",
   "execution_count": null,
   "metadata": {},
   "outputs": [],
   "source": [
    "# We can do this for every year BUT it is super tedious!!\n",
    "# run this cell\n",
    "population_1950_magnitude = math.log10(population_amounts.item(0))\n",
    "population_1951_magnitude = math.log10(population_amounts.item(1))\n",
    "population_1952_magnitude = math.log10(population_amounts.item(2))\n",
    "population_1953_magnitude = math.log10(population_amounts.item(3))\n"
   ]
  },
  {
   "cell_type": "markdown",
   "metadata": {},
   "source": [
    "While that is possible, it doesn't really make sense becuase that is something that a human can do. We want the computer to do MOST if not ALL the work!\n",
    "\n",
    "The NumPy library provides its own version of `log10` that takes the logarithm of each element of an array. It takes a single array of numbers as its argument. It returns an array of the same length, where the first element of the result is the logarithm of the first element of the argument, and so on."
   ]
  },
  {
   "cell_type": "code",
   "execution_count": null,
   "metadata": {},
   "outputs": [],
   "source": [
    "# replace ... with np.log10\n",
    "population_magnitudes = (...(population_amounts))"
   ]
  },
  {
   "cell_type": "markdown",
   "metadata": {},
   "source": [
    "We can also apply arithmetic to arrays! For example lets divide the population numbers by 1 billion to get numbers in billions:"
   ]
  },
  {
   "cell_type": "code",
   "execution_count": null,
   "metadata": {},
   "outputs": [],
   "source": [
    "# replace the ... then run the cell\n",
    "population_in_billions = population_amounts/...\n",
    "population_in_billions"
   ]
  },
  {
   "cell_type": "markdown",
   "metadata": {},
   "source": [
    "You can do the same with addition, subtraction, multiplication, and exponentiation (`**`). For example, you can calculate a tip on several restaurant bills at once (in this case just 3):"
   ]
  },
  {
   "cell_type": "code",
   "execution_count": null,
   "metadata": {},
   "outputs": [],
   "source": [
    "# run this cell\n",
    "\n",
    "restaurant_bills = make_array(20.12, 39.90, 31.01)\n",
    "print(\"Restaurant bills:\\t\", restaurant_bills)\n",
    "\n",
    "# Array multiplication\n",
    "tips = .2 * restaurant_bills\n",
    "print(\"Tips:\\t\\t\\t\", tips)"
   ]
  },
  {
   "cell_type": "markdown",
   "metadata": {},
   "source": [
    "**Question 5.3.1** Suppose the total charge at a restaurant is the original bill plus the tip. If the tip is 20%, that means we can multiply the original bill by 1.2 to get the total charge. Compute the total charge for each bill in `restaurant_bills`, and assign the resulting array to `total_charges`"
   ]
  },
  {
   "cell_type": "code",
   "execution_count": null,
   "metadata": {},
   "outputs": [],
   "source": [
    "# replace the ...\n",
    "total_charges = restaurant_bills ...\n",
    "total_charges"
   ]
  },
  {
   "cell_type": "markdown",
   "metadata": {},
   "source": [
    "<a id='section6'></a>\n",
    "# Part 6: Challenge Questions"
   ]
  },
  {
   "cell_type": "markdown",
   "metadata": {},
   "source": [
    "<a id='section6.1'></a>\n",
    "### 6.1 Arithmetic\n",
    "**Question 5.1.1** In the next cell assign the name `new_year` to the larger number amoung the following two numbers:\n",
    "1. the absolute value of $2^{5}-2^{11}-2^1$ AND\n",
    "2. $5 \\times 13 \\times 31 +2$\n",
    "\n",
    "Challenge yourself and use one statement (one line of code):\n",
    "\n",
    "\n",
    "**Hint:** if you get 2017, re-read the first statement"
   ]
  },
  {
   "cell_type": "code",
   "execution_count": null,
   "metadata": {},
   "outputs": [],
   "source": [
    "new_year = "
   ]
  },
  {
   "cell_type": "markdown",
   "metadata": {},
   "source": [
    "<a id='section6.2'></a>\n",
    "### 6.2 Printing and Strings\n",
    "**Question 5.2.** Yuri Gagarin was the first person to travel through outer space. When he emerged from his capsule upon landing on Earth, he reportedly had the following conversation with a woman and girl who saw the landing:\n",
    "\n",
    "    The woman asked: \"Can it be that you have come from outer space?\"\n",
    "    Gagarin replied: \"As a matter of fact, I have!\"\n",
    "    \n",
    "Complete the cell below and assign expressions to the following names, replace the `...`. "
   ]
  },
  {
   "cell_type": "code",
   "execution_count": null,
   "metadata": {},
   "outputs": [],
   "source": [
    "woman_asking = ...\n",
    "woman_quote = ...\n",
    "gagarin_reply = ...\n",
    "gagarin_quote = ...\n",
    "\n",
    "#Do not change these next lines, run the cell after completing the above statements\n",
    "print(woman_asking, woman_quote)\n",
    "print(gagarin_reply, gagarin_quote)"
   ]
  },
  {
   "cell_type": "markdown",
   "metadata": {},
   "source": [
    "<a id='section7'></a>\n",
    "# Part 7: Looping"
   ]
  },
  {
   "cell_type": "markdown",
   "metadata": {},
   "source": [
    "<a id='section7.1'></a>\n",
    "### 7.1 Conditionals\n",
    "We use **conditionals** to run certain pieces of code if something is true. For example, we should only go to the grocery store if we are out of peanut butter!\n",
    "\n",
    "We use **comparators** to determine whether an expression is true or false. There are six comparators to be aware of:\n",
    "\n",
    "Equal to: ==\n",
    "Not equal to: !=\n",
    "Greater than: >\n",
    "Greater than or equal to: >=\n",
    "Less than: <\n",
    "Less than or equal to: <=\n",
    "Let's try it out!"
   ]
  },
  {
   "cell_type": "code",
   "execution_count": null,
   "metadata": {},
   "outputs": [],
   "source": [
    "#EXERCISE 1\n",
    "# Determine whether the following will print true or false\n",
    "# Run the code to check your answers!\n",
    "\n",
    "print(10 == 10)\n",
    "\n",
    "print(2016 < 2017)\n",
    "\n",
    "print(\"foo\" != \"bar\")\n",
    "\n",
    "print( (1+2+3+4+5) <=  (1*2*3))"
   ]
  },
  {
   "cell_type": "code",
   "execution_count": null,
   "metadata": {},
   "outputs": [],
   "source": [
    "# EXERCISE 2\n",
    "\n",
    "# Write an expression that evaluates to True\n",
    "expression1 = # YOUR CODE HERE\n",
    "\n",
    "# Write an expression that evaluates to False\n",
    "expression2 = # YOUR CODE HERE\n",
    "\n",
    "print(expression1)\n",
    "print(expression2)"
   ]
  },
  {
   "cell_type": "markdown",
   "metadata": {},
   "source": [
    "<a id='section7.2'></a>\n",
    "### 7.2 If/Else Statements\n",
    "`If` statements consist of boolean condition followed by an expression. If the boolean value evaluates to `True` then the statement is executed. `Else` statements come after the `if` statement and get executed **only if the first boolean evaluates to false.** "
   ]
  },
  {
   "cell_type": "markdown",
   "metadata": {},
   "source": [
    "An **if statement** takes the following form:"
   ]
  },
  {
   "cell_type": "code",
   "execution_count": null,
   "metadata": {},
   "outputs": [],
   "source": [
    "# Please DO NOT run this code, as it will error. It is provided as a skeleton.\n",
    "\n",
    "if (condition1):\n",
    "    # code to be executed if condition1 is true\n",
    "elif (condition2):\n",
    "    # code to be executed if condition2 is true\n",
    "else:\n",
    "    # code to be executed otherwise"
   ]
  },
  {
   "cell_type": "markdown",
   "metadata": {},
   "source": [
    "With `if statements` we can **control** the code in which is executed. \n",
    "\n",
    "There are also `elif` conditions which come **in between** the `if` and `else` cases. These are used when we have **more than two cases.** \n",
    "\n",
    "Lets do a fun activity including if, elif and else statements. Read it carefully :)"
   ]
  },
  {
   "cell_type": "code",
   "execution_count": null,
   "metadata": {},
   "outputs": [],
   "source": [
    "# We want to make a PB&J sandwich, but things keep going wrong!\n",
    "\n",
    "# Modify the variables below so that you go grocery shopping \n",
    "# with no mishaps and successfully purchase some peanut butter.\n",
    "\n",
    "# Run the code when you're done to see the results.\n",
    "\n",
    "print(\"Let's make a PB&J sandwich!\")\n",
    "peanut_butter = 10\n",
    "jelly = 100\n",
    "gas = 60\n",
    "flat_tire = True\n",
    "\n",
    "if (peanut_butter < 50):\n",
    "    print(\"Uh oh! We need more peanut butter. Must go grocery shopping...\")\n",
    "    if (gas < 75):\n",
    "        print(\"Oops! Your car is out of gas :(\")\n",
    "    elif (flat_tire):\n",
    "        print(\"Oh no! You have a flat tire :'(\")\n",
    "    else:\n",
    "        print(\"You made it to the grocery store and succesfully got peanut butter!\")\n",
    "        peanut_butter = # reset the value of peanut_butter so it is 100% full again\n",
    "else:\n",
    "    print(\"We have all the ingredients we need! Yummy yummy yay!\")"
   ]
  },
  {
   "cell_type": "markdown",
   "metadata": {},
   "source": [
    "Here's another example:"
   ]
  },
  {
   "cell_type": "code",
   "execution_count": null,
   "metadata": {},
   "outputs": [],
   "source": [
    "weather = \"windy\"\n",
    "\n",
    "if (weather == \"sunny\"):\n",
    "    print(\"wear sunscreen\")\n",
    "elif (weather == \"raining\"):\n",
    "    print(\"take an umbrella\")\n",
    "elif (weather == \"windy\"):\n",
    "    print(\"take a jacket\")\n",
    "else:\n",
    "    print(\"check the weather\")"
   ]
  },
  {
   "cell_type": "markdown",
   "metadata": {},
   "source": [
    "We can also see this done in a more mathematical approach!"
   ]
  },
  {
   "cell_type": "code",
   "execution_count": null,
   "metadata": {},
   "outputs": [],
   "source": [
    "x = 0\n",
    "y = 8\n",
    "if (x < y):\n",
    "    print(\"x is less than y\")\n",
    "else:\n",
    "    print(\"y is less than x\")"
   ]
  },
  {
   "cell_type": "markdown",
   "metadata": {},
   "source": [
    "<a id='section7.3'></a>\n",
    "### 7.3 While Loops\n",
    "`While` loops are used to continuously execute code while a condition is satisfied. \n",
    "\n",
    "A `while` loops takes the following form:"
   ]
  },
  {
   "cell_type": "code",
   "execution_count": null,
   "metadata": {},
   "outputs": [],
   "source": [
    "# Please DO NOT run this code, as it will error. It is provided as a skeleton.\n",
    "while <condition>:\n",
    "    block of code"
   ]
  },
  {
   "cell_type": "markdown",
   "metadata": {},
   "source": [
    "Where `<condition>` is an expression that returns `True` or `False` or is any object on which the boolean value can be called. The body of the while-loop is the code indented below the while-loop statement."
   ]
  },
  {
   "cell_type": "code",
   "execution_count": null,
   "metadata": {},
   "outputs": [],
   "source": [
    "count = 0\n",
    "while count < 4:\n",
    "    print(count)\n",
    "    count = count + 1"
   ]
  },
  {
   "cell_type": "markdown",
   "metadata": {},
   "source": [
    "<a id='section7.4'></a>\n",
    "### 7.4 For Loops\n",
    "We can also regulate the flow of our code by repeating some action over and over. Say that we wanted to greet ten people. Instead of copying and pasting the same call to print over and over again, it would be better to use a for loop.\n",
    "\n",
    "A basic for loop is written in the following order:\n",
    "\n",
    "The word \"for\"\n",
    "A name we want to give each item in a sequence\n",
    "The word \"in\"\n",
    "A sequence (i.e. \"range(100)\" to go through numbers 0-99\n",
    "\n",
    "A `for` loop takes the following form:"
   ]
  },
  {
   "cell_type": "code",
   "execution_count": null,
   "metadata": {},
   "outputs": [],
   "source": [
    "# Please DO NOT run this code, as it will error. It is provided as a skeleton.\n",
    "for <var> in <iterable>:\n",
    "    block of code"
   ]
  },
  {
   "cell_type": "markdown",
   "metadata": {},
   "source": [
    "`For` loops are used to iterate over a list. Here's our first example:"
   ]
  },
  {
   "cell_type": "code",
   "execution_count": null,
   "metadata": {},
   "outputs": [],
   "source": [
    "# Run me to see \"hello!\" printed ten times!\n",
    "for i in range(10):\n",
    "    print(\"hello!\")"
   ]
  },
  {
   "cell_type": "code",
   "execution_count": null,
   "metadata": {},
   "outputs": [],
   "source": [
    "colors = make_array(\"red\", \"green\", \"blue\", \"purple\")\n",
    "\n",
    "for i in range(len(colors)):\n",
    "    print(colors[i])"
   ]
  },
  {
   "cell_type": "markdown",
   "metadata": {},
   "source": [
    "In this way, for loops help us avoid redundant code and have useful capabilities.\n",
    "\n",
    "Now you try! Write a function that returns the sum of the first n numbers, where n is the input to the function. Hint: Use a for loop!"
   ]
  },
  {
   "cell_type": "code",
   "execution_count": null,
   "metadata": {},
   "outputs": [],
   "source": [
    "def sum_first_n(n):\n",
    "    # YOUR CODE HERE\n",
    "\n",
    "sum_first_n(5) # should return 1+2+3+4+5 = 15"
   ]
  },
  {
   "cell_type": "markdown",
   "metadata": {},
   "source": [
    "<a id='section8'></a>\n",
    "# Part 8: Functions"
   ]
  },
  {
   "cell_type": "markdown",
   "metadata": {},
   "source": [
    "Remember how we used the functions `abs` and `max`? We can make our own functions and tell them to do whatever we want them to! lets start with Define Statements!"
   ]
  },
  {
   "cell_type": "markdown",
   "metadata": {},
   "source": [
    "<a id='section8.1'></a>\n",
    "### 8.1 Define Statements\n",
    "\n",
    "So far, you've learnt how to carry out basic operations on your inputs and assign variables to certain values. Now, let's try to be more efficient.\n",
    "\n",
    "Let's say we want to perform a certain operation on many different inputs that will produce distinct outputs. What do we do? We write a **function**.\n",
    "\n",
    "A function is a block of code which works a lot like a machine: it takes an input, does something to it, and produces an output.\n",
    "\n",
    "The input is put between brackets and can also be called the argument or parameter. Functions can have multiple arguments.\n",
    "\n",
    "Try running the cell below after changing the variable name:"
   ]
  },
  {
   "cell_type": "code",
   "execution_count": null,
   "metadata": {},
   "outputs": [],
   "source": [
    "# Edit this cell so the output has your name\n",
    "\n",
    "# Our function\n",
    "def hello(name):\n",
    "    return \"Hello\" + name + \"!\"\n",
    "\n",
    "# Replace 'name' with your name then run the cell\n",
    "hello(name)"
   ]
  },
  {
   "cell_type": "code",
   "execution_count": null,
   "metadata": {},
   "outputs": [],
   "source": [
    "# Please DO NOT run this code, as it will error. It is provided as a skeleton.\n",
    "\n",
    "def <function name>(<variables>):\n",
    "    block of code\n",
    "    return <statement>"
   ]
  },
  {
   "cell_type": "markdown",
   "metadata": {},
   "source": [
    "After you define a function you can use it! This is called **calling** a function. \n",
    "\n",
    "To call a function, you start with the function name then add your customized variables. For example, above we had hello as the function name and your name as the variable.\n",
    "\n",
    "Now you try! create a function that takes in a variable and returns that variable squared."
   ]
  },
  {
   "cell_type": "code",
   "execution_count": null,
   "metadata": {},
   "outputs": [],
   "source": [
    "#square function\n",
    "\n",
    "#Your Code Here\n",
    "\n",
    "square(5)"
   ]
  },
  {
   "cell_type": "markdown",
   "metadata": {},
   "source": [
    "<a id='section8.2'></a>\n",
    "### 8.2 Putting it all together\n",
    "This is a place where you can make your own functions! You can have fun with for loops, assignments and more! Feel free to use this space to experiment, otherwise you are done!"
   ]
  },
  {
   "cell_type": "code",
   "execution_count": null,
   "metadata": {},
   "outputs": [],
   "source": []
  },
  {
   "cell_type": "code",
   "execution_count": null,
   "metadata": {},
   "outputs": [],
   "source": []
  },
  {
   "cell_type": "code",
   "execution_count": null,
   "metadata": {},
   "outputs": [],
   "source": []
  },
  {
   "cell_type": "code",
   "execution_count": null,
   "metadata": {},
   "outputs": [],
   "source": []
  },
  {
   "cell_type": "markdown",
   "metadata": {},
   "source": [
    "Congratulations! You've successfully learnt the basics of programming: creating your own variables, writing your own functions, and controlling the flow of your code! You will apply the concepts learnt throughout this notebook in class. After delving into this notebook, you are only just getting started!"
   ]
  }
 ],
 "metadata": {
  "kernelspec": {
   "display_name": "Python 3",
   "language": "python",
   "name": "python3"
  },
  "language_info": {
   "codemirror_mode": {
    "name": "ipython",
    "version": 3
   },
   "file_extension": ".py",
   "mimetype": "text/x-python",
   "name": "python",
   "nbconvert_exporter": "python",
   "pygments_lexer": "ipython3",
   "version": "3.7.4"
  }
 },
 "nbformat": 4,
 "nbformat_minor": 2
}
